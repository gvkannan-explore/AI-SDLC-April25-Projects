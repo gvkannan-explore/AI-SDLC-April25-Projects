{
 "cells": [
  {
   "cell_type": "code",
   "execution_count": 1,
   "metadata": {},
   "outputs": [
    {
     "name": "stderr",
     "output_type": "stream",
     "text": [
      "/Users/vigneshkannan/Documents/Projects/AI-SDLC-April25-Projects/uv_venv/lib/python3.12/site-packages/tqdm/auto.py:21: TqdmWarning: IProgress not found. Please update jupyter and ipywidgets. See https://ipywidgets.readthedocs.io/en/stable/user_install.html\n",
      "  from .autonotebook import tqdm as notebook_tqdm\n"
     ]
    }
   ],
   "source": [
    "import os\n",
    "import gradio as gr\n",
    "import fitz ## PyMuPDF\n",
    "import sqlite3\n",
    "from llama_index.core import VectorStoreIndex, Document\n",
    "from datetime import datetime\n",
    "import uuid\n",
    "from tqdm.notebook import tqdm\n",
    "import traceback\n",
    "from dotenv import load_dotenv\n",
    "from typing import List\n"
   ]
  },
  {
   "cell_type": "markdown",
   "metadata": {},
   "source": [
    "### Objective:\n",
    "- Deconstruct the essential components of llama-index to understand the important components\n",
    "- Log interaction into a db and csv file!"
   ]
  },
  {
   "cell_type": "markdown",
   "metadata": {},
   "source": [
    "#### Major Components of LlamaIndex:\n",
    "1. Data Connectors - Load data from various sources\n",
    "2. Document & Nodes - Represent and chunk text data\n",
    "3. Indexes - Store and organize the processed document data\n",
    "4. Vector Stores -  Manage embeddings and vector similarity search\n",
    "5. Retrievers - Extract relevant context from index\n",
    "6. Query Engines - Process queries and generate responses.\n",
    "7. Response Synthesizers - Combine retrieved context and query to generate answers."
   ]
  },
  {
   "cell_type": "code",
   "execution_count": 2,
   "metadata": {},
   "outputs": [
    {
     "data": {
      "text/plain": [
       "True"
      ]
     },
     "execution_count": 2,
     "metadata": {},
     "output_type": "execute_result"
    }
   ],
   "source": [
    "load_dotenv(dotenv_path=\"../../project_secrets.env\")\n",
    "load_dotenv(dotenv_path=\"../../../ai_sdlc_secrets.env\")"
   ]
  },
  {
   "cell_type": "code",
   "execution_count": 3,
   "metadata": {},
   "outputs": [],
   "source": [
    "DB_NAME = \"pdf_qa_logs.db\"\n",
    "\n",
    "## Initialize the database\n",
    "def init_db(db_name: str = DB_NAME):\n",
    "    conn = sqlite3.connect(db_name)\n",
    "    c = conn.cursor()\n",
    "    c.execute(\n",
    "        '''\n",
    "        CREATE TABLE IF NOT EXISTS interactions (\n",
    "            id TEXT PRIMARY KEY,\n",
    "            timestamp TEXT,\n",
    "            pdf_name TEXT,\n",
    "            query TEXT,\n",
    "            task_type TEXT,\n",
    "            temperature REAL,\n",
    "            top_p REAL,\n",
    "            prompt TEXT,\n",
    "            response TEXT)''') \n",
    "    ## We might add prompts and other metadata\n",
    "    conn.commit()\n",
    "    conn.close()\n",
    "\n",
    "## Extract text from PDF using fitz\n",
    "def extract_text_chunks(pdf_bytes: bytes) -> str: ## Find the dtype later!\n",
    "    pdf_doc = fitz.open(stream=pdf_bytes, filetype=\"pdf\")\n",
    "    chunks = []\n",
    "    for page_num in range(pdf_doc.page_count):\n",
    "        page = pdf_doc.load_page(page_num)\n",
    "        text = page.get_text(\"text\").strip()\n",
    "        if text:\n",
    "            chunks.append({\"page\": page_num + 1, \"text\": text})\n",
    "    return text\n",
    "\n",
    "def simple_keyword_ranking(chunks: List[str], query: str, top_k: int=5) -> List[str]:\n",
    "    ranked = sorted(\n",
    "        chunks, \n",
    "        key= lambda c: sum(query.lower().count(word.lower()) for word in c['text'].split()),\n",
    "        reverse=True\n",
    "    )\n",
    "    return ranked[:top_k] if ranked else []\n",
    "\n",
    "\n",
    "## Process PDF and create index:\n",
    "def process_pdf(pdf_bytes: bytes) -> VectorStoreIndex:\n",
    "    extracted_text = extract_text_chunks(pdf_bytes)\n",
    "    document = Document(text=extracted_text)\n",
    "    index = VectorStoreIndex.from_documents([document])\n",
    "    return index\n",
    "\n",
    "## Log to SQLite DB:\n",
    "def log_interaction(pdf_name: str, query: str, response: str, db_name: str = DB_NAME) -> None:\n",
    "    conn = sqlite3.connect(database=db_name)\n",
    "    c = conn.cursor()\n",
    "    interaction_id = str(uuid.uuid4())\n",
    "    timestamp = datetime.now().isoformat()\n",
    "    c.execute(\n",
    "        \"INSERT INTO interactions VALUES (?, ?, ?, ?, ?)\",\n",
    "        (interaction_id, timestamp, pdf_name, query, response))\n",
    "    conn.commit()\n",
    "    conn.close()\n",
    "    return None\n",
    "\n",
    "def query_pdf(pdf: bytes, query: str) -> str:\n",
    "    print(type(pdf))\n",
    "    if pdf is None:\n",
    "        return \"Please upload a PDF\"\n",
    "    if not query.strip():\n",
    "        return \"Please enter a valid query\"\n",
    "    \n",
    "    try:\n",
    "        pdf_name = pdf.name if hasattr(pdf, \"name\") else \"PDF-Unknown\"\n",
    "        index = process_pdf(pdf) ## Passing bytes directly\n",
    "\n",
    "        query_engine = index.as_query_engine()\n",
    "        response = query_engine.query(query)\n",
    "        \n",
    "        log_interaction(pdf_name, query, response.response)\n",
    "    except Exception as e:\n",
    "        return f\"An error occurred: {str(e)}-{traceback.format_exc()}\"\n",
    "    \n",
    "    return response"
   ]
  },
  {
   "cell_type": "code",
   "execution_count": 4,
   "metadata": {},
   "outputs": [
    {
     "name": "stdout",
     "output_type": "stream",
     "text": [
      "* Running on local URL:  http://127.0.0.1:7860\n",
      "\n",
      "To create a public link, set `share=True` in `launch()`.\n"
     ]
    },
    {
     "data": {
      "text/html": [
       "<div><iframe src=\"http://127.0.0.1:7860/\" width=\"100%\" height=\"500\" allow=\"autoplay; camera; microphone; clipboard-read; clipboard-write;\" frameborder=\"0\" allowfullscreen></iframe></div>"
      ],
      "text/plain": [
       "<IPython.core.display.HTML object>"
      ]
     },
     "metadata": {},
     "output_type": "display_data"
    },
    {
     "data": {
      "text/plain": []
     },
     "execution_count": 4,
     "metadata": {},
     "output_type": "execute_result"
    },
    {
     "name": "stdout",
     "output_type": "stream",
     "text": [
      "<class 'bytes'>\n",
      "Text type: <class 'str'>\n",
      "Index type: <llama_index.core.indices.vector_store.base.VectorStoreIndex object at 0x128b6df70>\n"
     ]
    }
   ],
   "source": [
    "with gr.Blocks() as app:\n",
    "    pdf_upload = gr.File(label=\"Upload PDF\", type=\"binary\")\n",
    "    query_input = gr.Textbox(label=\"Ask a question about the PDF\")\n",
    "    output = gr.Textbox(label=\"Answer\")\n",
    "\n",
    "    query_button = gr.Button(\"Submit\")\n",
    "    query_button.click(query_pdf, inputs=[pdf_upload, query_input], outputs=output)\n",
    "\n",
    "app.launch()"
   ]
  }
 ],
 "metadata": {
  "kernelspec": {
   "display_name": "uv_venv",
   "language": "python",
   "name": "python3"
  },
  "language_info": {
   "codemirror_mode": {
    "name": "ipython",
    "version": 3
   },
   "file_extension": ".py",
   "mimetype": "text/x-python",
   "name": "python",
   "nbconvert_exporter": "python",
   "pygments_lexer": "ipython3",
   "version": "3.12.6"
  }
 },
 "nbformat": 4,
 "nbformat_minor": 2
}
